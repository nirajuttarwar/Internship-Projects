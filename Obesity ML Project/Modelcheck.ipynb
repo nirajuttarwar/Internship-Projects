{
  "nbformat": 4,
  "nbformat_minor": 0,
  "metadata": {
    "colab": {
      "provenance": []
    },
    "kernelspec": {
      "name": "python3",
      "display_name": "Python 3"
    },
    "language_info": {
      "name": "python"
    }
  },
  "cells": [
    {
      "cell_type": "code",
      "execution_count": 1,
      "metadata": {
        "id": "adFqhVtejFdQ"
      },
      "outputs": [],
      "source": [
        "import pandas as pd\n",
        "import numpy as np\n",
        "from scipy import stats"
      ]
    },
    {
      "cell_type": "code",
      "source": [
        "df1 = pd.read_csv('/content/sample_data/train.csv')"
      ],
      "metadata": {
        "id": "8ff30zKxlBbR"
      },
      "execution_count": 2,
      "outputs": []
    },
    {
      "cell_type": "code",
      "source": [
        "df1.head()"
      ],
      "metadata": {
        "colab": {
          "base_uri": "https://localhost:8080/",
          "height": 226
        },
        "id": "AJyZlZblQZ0t",
        "outputId": "eac7d639-d067-42aa-bc8c-03b76f1cf9a4"
      },
      "execution_count": 3,
      "outputs": [
        {
          "output_type": "execute_result",
          "data": {
            "text/plain": [
              "   id  Gender        Age    Height      Weight family_history_with_overweight  \\\n",
              "0   0    Male  24.443011  1.699998   81.669950                            yes   \n",
              "1   1  Female  18.000000  1.560000   57.000000                            yes   \n",
              "2   2  Female  18.000000  1.711460   50.165754                            yes   \n",
              "3   3  Female  20.952737  1.710730  131.274851                            yes   \n",
              "4   4    Male  31.641081  1.914186   93.798055                            yes   \n",
              "\n",
              "  FAVC      FCVC       NCP        CAEC SMOKE      CH2O SCC       FAF  \\\n",
              "0  yes  2.000000  2.983297   Sometimes    no  2.763573  no  0.000000   \n",
              "1  yes  2.000000  3.000000  Frequently    no  2.000000  no  1.000000   \n",
              "2  yes  1.880534  1.411685   Sometimes    no  1.910378  no  0.866045   \n",
              "3  yes  3.000000  3.000000   Sometimes    no  1.674061  no  1.467863   \n",
              "4  yes  2.679664  1.971472   Sometimes    no  1.979848  no  1.967973   \n",
              "\n",
              "        TUE       CALC                 MTRANS           NObeyesdad  \n",
              "0  0.976473  Sometimes  Public_Transportation  Overweight_Level_II  \n",
              "1  1.000000         no             Automobile        Normal_Weight  \n",
              "2  1.673584         no  Public_Transportation  Insufficient_Weight  \n",
              "3  0.780199  Sometimes  Public_Transportation     Obesity_Type_III  \n",
              "4  0.931721  Sometimes  Public_Transportation  Overweight_Level_II  "
            ],
            "text/html": [
              "\n",
              "  <div id=\"df-edc8b236-bc44-4ca6-ba98-52d56ac109d0\" class=\"colab-df-container\">\n",
              "    <div>\n",
              "<style scoped>\n",
              "    .dataframe tbody tr th:only-of-type {\n",
              "        vertical-align: middle;\n",
              "    }\n",
              "\n",
              "    .dataframe tbody tr th {\n",
              "        vertical-align: top;\n",
              "    }\n",
              "\n",
              "    .dataframe thead th {\n",
              "        text-align: right;\n",
              "    }\n",
              "</style>\n",
              "<table border=\"1\" class=\"dataframe\">\n",
              "  <thead>\n",
              "    <tr style=\"text-align: right;\">\n",
              "      <th></th>\n",
              "      <th>id</th>\n",
              "      <th>Gender</th>\n",
              "      <th>Age</th>\n",
              "      <th>Height</th>\n",
              "      <th>Weight</th>\n",
              "      <th>family_history_with_overweight</th>\n",
              "      <th>FAVC</th>\n",
              "      <th>FCVC</th>\n",
              "      <th>NCP</th>\n",
              "      <th>CAEC</th>\n",
              "      <th>SMOKE</th>\n",
              "      <th>CH2O</th>\n",
              "      <th>SCC</th>\n",
              "      <th>FAF</th>\n",
              "      <th>TUE</th>\n",
              "      <th>CALC</th>\n",
              "      <th>MTRANS</th>\n",
              "      <th>NObeyesdad</th>\n",
              "    </tr>\n",
              "  </thead>\n",
              "  <tbody>\n",
              "    <tr>\n",
              "      <th>0</th>\n",
              "      <td>0</td>\n",
              "      <td>Male</td>\n",
              "      <td>24.443011</td>\n",
              "      <td>1.699998</td>\n",
              "      <td>81.669950</td>\n",
              "      <td>yes</td>\n",
              "      <td>yes</td>\n",
              "      <td>2.000000</td>\n",
              "      <td>2.983297</td>\n",
              "      <td>Sometimes</td>\n",
              "      <td>no</td>\n",
              "      <td>2.763573</td>\n",
              "      <td>no</td>\n",
              "      <td>0.000000</td>\n",
              "      <td>0.976473</td>\n",
              "      <td>Sometimes</td>\n",
              "      <td>Public_Transportation</td>\n",
              "      <td>Overweight_Level_II</td>\n",
              "    </tr>\n",
              "    <tr>\n",
              "      <th>1</th>\n",
              "      <td>1</td>\n",
              "      <td>Female</td>\n",
              "      <td>18.000000</td>\n",
              "      <td>1.560000</td>\n",
              "      <td>57.000000</td>\n",
              "      <td>yes</td>\n",
              "      <td>yes</td>\n",
              "      <td>2.000000</td>\n",
              "      <td>3.000000</td>\n",
              "      <td>Frequently</td>\n",
              "      <td>no</td>\n",
              "      <td>2.000000</td>\n",
              "      <td>no</td>\n",
              "      <td>1.000000</td>\n",
              "      <td>1.000000</td>\n",
              "      <td>no</td>\n",
              "      <td>Automobile</td>\n",
              "      <td>Normal_Weight</td>\n",
              "    </tr>\n",
              "    <tr>\n",
              "      <th>2</th>\n",
              "      <td>2</td>\n",
              "      <td>Female</td>\n",
              "      <td>18.000000</td>\n",
              "      <td>1.711460</td>\n",
              "      <td>50.165754</td>\n",
              "      <td>yes</td>\n",
              "      <td>yes</td>\n",
              "      <td>1.880534</td>\n",
              "      <td>1.411685</td>\n",
              "      <td>Sometimes</td>\n",
              "      <td>no</td>\n",
              "      <td>1.910378</td>\n",
              "      <td>no</td>\n",
              "      <td>0.866045</td>\n",
              "      <td>1.673584</td>\n",
              "      <td>no</td>\n",
              "      <td>Public_Transportation</td>\n",
              "      <td>Insufficient_Weight</td>\n",
              "    </tr>\n",
              "    <tr>\n",
              "      <th>3</th>\n",
              "      <td>3</td>\n",
              "      <td>Female</td>\n",
              "      <td>20.952737</td>\n",
              "      <td>1.710730</td>\n",
              "      <td>131.274851</td>\n",
              "      <td>yes</td>\n",
              "      <td>yes</td>\n",
              "      <td>3.000000</td>\n",
              "      <td>3.000000</td>\n",
              "      <td>Sometimes</td>\n",
              "      <td>no</td>\n",
              "      <td>1.674061</td>\n",
              "      <td>no</td>\n",
              "      <td>1.467863</td>\n",
              "      <td>0.780199</td>\n",
              "      <td>Sometimes</td>\n",
              "      <td>Public_Transportation</td>\n",
              "      <td>Obesity_Type_III</td>\n",
              "    </tr>\n",
              "    <tr>\n",
              "      <th>4</th>\n",
              "      <td>4</td>\n",
              "      <td>Male</td>\n",
              "      <td>31.641081</td>\n",
              "      <td>1.914186</td>\n",
              "      <td>93.798055</td>\n",
              "      <td>yes</td>\n",
              "      <td>yes</td>\n",
              "      <td>2.679664</td>\n",
              "      <td>1.971472</td>\n",
              "      <td>Sometimes</td>\n",
              "      <td>no</td>\n",
              "      <td>1.979848</td>\n",
              "      <td>no</td>\n",
              "      <td>1.967973</td>\n",
              "      <td>0.931721</td>\n",
              "      <td>Sometimes</td>\n",
              "      <td>Public_Transportation</td>\n",
              "      <td>Overweight_Level_II</td>\n",
              "    </tr>\n",
              "  </tbody>\n",
              "</table>\n",
              "</div>\n",
              "    <div class=\"colab-df-buttons\">\n",
              "\n",
              "  <div class=\"colab-df-container\">\n",
              "    <button class=\"colab-df-convert\" onclick=\"convertToInteractive('df-edc8b236-bc44-4ca6-ba98-52d56ac109d0')\"\n",
              "            title=\"Convert this dataframe to an interactive table.\"\n",
              "            style=\"display:none;\">\n",
              "\n",
              "  <svg xmlns=\"http://www.w3.org/2000/svg\" height=\"24px\" viewBox=\"0 -960 960 960\">\n",
              "    <path d=\"M120-120v-720h720v720H120Zm60-500h600v-160H180v160Zm220 220h160v-160H400v160Zm0 220h160v-160H400v160ZM180-400h160v-160H180v160Zm440 0h160v-160H620v160ZM180-180h160v-160H180v160Zm440 0h160v-160H620v160Z\"/>\n",
              "  </svg>\n",
              "    </button>\n",
              "\n",
              "  <style>\n",
              "    .colab-df-container {\n",
              "      display:flex;\n",
              "      gap: 12px;\n",
              "    }\n",
              "\n",
              "    .colab-df-convert {\n",
              "      background-color: #E8F0FE;\n",
              "      border: none;\n",
              "      border-radius: 50%;\n",
              "      cursor: pointer;\n",
              "      display: none;\n",
              "      fill: #1967D2;\n",
              "      height: 32px;\n",
              "      padding: 0 0 0 0;\n",
              "      width: 32px;\n",
              "    }\n",
              "\n",
              "    .colab-df-convert:hover {\n",
              "      background-color: #E2EBFA;\n",
              "      box-shadow: 0px 1px 2px rgba(60, 64, 67, 0.3), 0px 1px 3px 1px rgba(60, 64, 67, 0.15);\n",
              "      fill: #174EA6;\n",
              "    }\n",
              "\n",
              "    .colab-df-buttons div {\n",
              "      margin-bottom: 4px;\n",
              "    }\n",
              "\n",
              "    [theme=dark] .colab-df-convert {\n",
              "      background-color: #3B4455;\n",
              "      fill: #D2E3FC;\n",
              "    }\n",
              "\n",
              "    [theme=dark] .colab-df-convert:hover {\n",
              "      background-color: #434B5C;\n",
              "      box-shadow: 0px 1px 3px 1px rgba(0, 0, 0, 0.15);\n",
              "      filter: drop-shadow(0px 1px 2px rgba(0, 0, 0, 0.3));\n",
              "      fill: #FFFFFF;\n",
              "    }\n",
              "  </style>\n",
              "\n",
              "    <script>\n",
              "      const buttonEl =\n",
              "        document.querySelector('#df-edc8b236-bc44-4ca6-ba98-52d56ac109d0 button.colab-df-convert');\n",
              "      buttonEl.style.display =\n",
              "        google.colab.kernel.accessAllowed ? 'block' : 'none';\n",
              "\n",
              "      async function convertToInteractive(key) {\n",
              "        const element = document.querySelector('#df-edc8b236-bc44-4ca6-ba98-52d56ac109d0');\n",
              "        const dataTable =\n",
              "          await google.colab.kernel.invokeFunction('convertToInteractive',\n",
              "                                                    [key], {});\n",
              "        if (!dataTable) return;\n",
              "\n",
              "        const docLinkHtml = 'Like what you see? Visit the ' +\n",
              "          '<a target=\"_blank\" href=https://colab.research.google.com/notebooks/data_table.ipynb>data table notebook</a>'\n",
              "          + ' to learn more about interactive tables.';\n",
              "        element.innerHTML = '';\n",
              "        dataTable['output_type'] = 'display_data';\n",
              "        await google.colab.output.renderOutput(dataTable, element);\n",
              "        const docLink = document.createElement('div');\n",
              "        docLink.innerHTML = docLinkHtml;\n",
              "        element.appendChild(docLink);\n",
              "      }\n",
              "    </script>\n",
              "  </div>\n",
              "\n",
              "\n",
              "<div id=\"df-41799fa2-28a1-40d1-934a-a62f238e886a\">\n",
              "  <button class=\"colab-df-quickchart\" onclick=\"quickchart('df-41799fa2-28a1-40d1-934a-a62f238e886a')\"\n",
              "            title=\"Suggest charts\"\n",
              "            style=\"display:none;\">\n",
              "\n",
              "<svg xmlns=\"http://www.w3.org/2000/svg\" height=\"24px\"viewBox=\"0 0 24 24\"\n",
              "     width=\"24px\">\n",
              "    <g>\n",
              "        <path d=\"M19 3H5c-1.1 0-2 .9-2 2v14c0 1.1.9 2 2 2h14c1.1 0 2-.9 2-2V5c0-1.1-.9-2-2-2zM9 17H7v-7h2v7zm4 0h-2V7h2v10zm4 0h-2v-4h2v4z\"/>\n",
              "    </g>\n",
              "</svg>\n",
              "  </button>\n",
              "\n",
              "<style>\n",
              "  .colab-df-quickchart {\n",
              "      --bg-color: #E8F0FE;\n",
              "      --fill-color: #1967D2;\n",
              "      --hover-bg-color: #E2EBFA;\n",
              "      --hover-fill-color: #174EA6;\n",
              "      --disabled-fill-color: #AAA;\n",
              "      --disabled-bg-color: #DDD;\n",
              "  }\n",
              "\n",
              "  [theme=dark] .colab-df-quickchart {\n",
              "      --bg-color: #3B4455;\n",
              "      --fill-color: #D2E3FC;\n",
              "      --hover-bg-color: #434B5C;\n",
              "      --hover-fill-color: #FFFFFF;\n",
              "      --disabled-bg-color: #3B4455;\n",
              "      --disabled-fill-color: #666;\n",
              "  }\n",
              "\n",
              "  .colab-df-quickchart {\n",
              "    background-color: var(--bg-color);\n",
              "    border: none;\n",
              "    border-radius: 50%;\n",
              "    cursor: pointer;\n",
              "    display: none;\n",
              "    fill: var(--fill-color);\n",
              "    height: 32px;\n",
              "    padding: 0;\n",
              "    width: 32px;\n",
              "  }\n",
              "\n",
              "  .colab-df-quickchart:hover {\n",
              "    background-color: var(--hover-bg-color);\n",
              "    box-shadow: 0 1px 2px rgba(60, 64, 67, 0.3), 0 1px 3px 1px rgba(60, 64, 67, 0.15);\n",
              "    fill: var(--button-hover-fill-color);\n",
              "  }\n",
              "\n",
              "  .colab-df-quickchart-complete:disabled,\n",
              "  .colab-df-quickchart-complete:disabled:hover {\n",
              "    background-color: var(--disabled-bg-color);\n",
              "    fill: var(--disabled-fill-color);\n",
              "    box-shadow: none;\n",
              "  }\n",
              "\n",
              "  .colab-df-spinner {\n",
              "    border: 2px solid var(--fill-color);\n",
              "    border-color: transparent;\n",
              "    border-bottom-color: var(--fill-color);\n",
              "    animation:\n",
              "      spin 1s steps(1) infinite;\n",
              "  }\n",
              "\n",
              "  @keyframes spin {\n",
              "    0% {\n",
              "      border-color: transparent;\n",
              "      border-bottom-color: var(--fill-color);\n",
              "      border-left-color: var(--fill-color);\n",
              "    }\n",
              "    20% {\n",
              "      border-color: transparent;\n",
              "      border-left-color: var(--fill-color);\n",
              "      border-top-color: var(--fill-color);\n",
              "    }\n",
              "    30% {\n",
              "      border-color: transparent;\n",
              "      border-left-color: var(--fill-color);\n",
              "      border-top-color: var(--fill-color);\n",
              "      border-right-color: var(--fill-color);\n",
              "    }\n",
              "    40% {\n",
              "      border-color: transparent;\n",
              "      border-right-color: var(--fill-color);\n",
              "      border-top-color: var(--fill-color);\n",
              "    }\n",
              "    60% {\n",
              "      border-color: transparent;\n",
              "      border-right-color: var(--fill-color);\n",
              "    }\n",
              "    80% {\n",
              "      border-color: transparent;\n",
              "      border-right-color: var(--fill-color);\n",
              "      border-bottom-color: var(--fill-color);\n",
              "    }\n",
              "    90% {\n",
              "      border-color: transparent;\n",
              "      border-bottom-color: var(--fill-color);\n",
              "    }\n",
              "  }\n",
              "</style>\n",
              "\n",
              "  <script>\n",
              "    async function quickchart(key) {\n",
              "      const quickchartButtonEl =\n",
              "        document.querySelector('#' + key + ' button');\n",
              "      quickchartButtonEl.disabled = true;  // To prevent multiple clicks.\n",
              "      quickchartButtonEl.classList.add('colab-df-spinner');\n",
              "      try {\n",
              "        const charts = await google.colab.kernel.invokeFunction(\n",
              "            'suggestCharts', [key], {});\n",
              "      } catch (error) {\n",
              "        console.error('Error during call to suggestCharts:', error);\n",
              "      }\n",
              "      quickchartButtonEl.classList.remove('colab-df-spinner');\n",
              "      quickchartButtonEl.classList.add('colab-df-quickchart-complete');\n",
              "    }\n",
              "    (() => {\n",
              "      let quickchartButtonEl =\n",
              "        document.querySelector('#df-41799fa2-28a1-40d1-934a-a62f238e886a button');\n",
              "      quickchartButtonEl.style.display =\n",
              "        google.colab.kernel.accessAllowed ? 'block' : 'none';\n",
              "    })();\n",
              "  </script>\n",
              "</div>\n",
              "\n",
              "    </div>\n",
              "  </div>\n"
            ],
            "application/vnd.google.colaboratory.intrinsic+json": {
              "type": "dataframe",
              "variable_name": "df1",
              "summary": "{\n  \"name\": \"df1\",\n  \"rows\": 20758,\n  \"fields\": [\n    {\n      \"column\": \"id\",\n      \"properties\": {\n        \"dtype\": \"number\",\n        \"std\": 5992,\n        \"min\": 0,\n        \"max\": 20757,\n        \"num_unique_values\": 20758,\n        \"samples\": [\n          10317,\n          4074,\n          9060\n        ],\n        \"semantic_type\": \"\",\n        \"description\": \"\"\n      }\n    },\n    {\n      \"column\": \"Gender\",\n      \"properties\": {\n        \"dtype\": \"category\",\n        \"num_unique_values\": 2,\n        \"samples\": [\n          \"Female\",\n          \"Male\"\n        ],\n        \"semantic_type\": \"\",\n        \"description\": \"\"\n      }\n    },\n    {\n      \"column\": \"Age\",\n      \"properties\": {\n        \"dtype\": \"number\",\n        \"std\": 5.688071958787301,\n        \"min\": 14.0,\n        \"max\": 61.0,\n        \"num_unique_values\": 1703,\n        \"samples\": [\n          25.902283,\n          17.412629\n        ],\n        \"semantic_type\": \"\",\n        \"description\": \"\"\n      }\n    },\n    {\n      \"column\": \"Height\",\n      \"properties\": {\n        \"dtype\": \"number\",\n        \"std\": 0.08731190569717949,\n        \"min\": 1.45,\n        \"max\": 1.975663,\n        \"num_unique_values\": 1833,\n        \"samples\": [\n          1.685127,\n          1.919241\n        ],\n        \"semantic_type\": \"\",\n        \"description\": \"\"\n      }\n    },\n    {\n      \"column\": \"Weight\",\n      \"properties\": {\n        \"dtype\": \"number\",\n        \"std\": 26.37944307640627,\n        \"min\": 39.0,\n        \"max\": 165.057269,\n        \"num_unique_values\": 1979,\n        \"samples\": [\n          110.804337,\n          96.875502\n        ],\n        \"semantic_type\": \"\",\n        \"description\": \"\"\n      }\n    },\n    {\n      \"column\": \"family_history_with_overweight\",\n      \"properties\": {\n        \"dtype\": \"category\",\n        \"num_unique_values\": 2,\n        \"samples\": [\n          \"no\",\n          \"yes\"\n        ],\n        \"semantic_type\": \"\",\n        \"description\": \"\"\n      }\n    },\n    {\n      \"column\": \"FAVC\",\n      \"properties\": {\n        \"dtype\": \"category\",\n        \"num_unique_values\": 2,\n        \"samples\": [\n          \"no\",\n          \"yes\"\n        ],\n        \"semantic_type\": \"\",\n        \"description\": \"\"\n      }\n    },\n    {\n      \"column\": \"FCVC\",\n      \"properties\": {\n        \"dtype\": \"number\",\n        \"std\": 0.5332181544582932,\n        \"min\": 1.0,\n        \"max\": 3.0,\n        \"num_unique_values\": 934,\n        \"samples\": [\n          2.444599,\n          2.191429\n        ],\n        \"semantic_type\": \"\",\n        \"description\": \"\"\n      }\n    },\n    {\n      \"column\": \"NCP\",\n      \"properties\": {\n        \"dtype\": \"number\",\n        \"std\": 0.705374595883658,\n        \"min\": 1.0,\n        \"max\": 4.0,\n        \"num_unique_values\": 689,\n        \"samples\": [\n          1.193589,\n          2.814518\n        ],\n        \"semantic_type\": \"\",\n        \"description\": \"\"\n      }\n    },\n    {\n      \"column\": \"CAEC\",\n      \"properties\": {\n        \"dtype\": \"category\",\n        \"num_unique_values\": 4,\n        \"samples\": [\n          \"Frequently\",\n          \"Always\"\n        ],\n        \"semantic_type\": \"\",\n        \"description\": \"\"\n      }\n    },\n    {\n      \"column\": \"SMOKE\",\n      \"properties\": {\n        \"dtype\": \"category\",\n        \"num_unique_values\": 2,\n        \"samples\": [\n          \"yes\",\n          \"no\"\n        ],\n        \"semantic_type\": \"\",\n        \"description\": \"\"\n      }\n    },\n    {\n      \"column\": \"CH2O\",\n      \"properties\": {\n        \"dtype\": \"number\",\n        \"std\": 0.6084670184549015,\n        \"min\": 1.0,\n        \"max\": 3.0,\n        \"num_unique_values\": 1506,\n        \"samples\": [\n          2.495851,\n          2.15157\n        ],\n        \"semantic_type\": \"\",\n        \"description\": \"\"\n      }\n    },\n    {\n      \"column\": \"SCC\",\n      \"properties\": {\n        \"dtype\": \"category\",\n        \"num_unique_values\": 2,\n        \"samples\": [\n          \"yes\",\n          \"no\"\n        ],\n        \"semantic_type\": \"\",\n        \"description\": \"\"\n      }\n    },\n    {\n      \"column\": \"FAF\",\n      \"properties\": {\n        \"dtype\": \"number\",\n        \"std\": 0.8383019759696384,\n        \"min\": 0.0,\n        \"max\": 3.0,\n        \"num_unique_values\": 1360,\n        \"samples\": [\n          1.079524,\n          1.456369\n        ],\n        \"semantic_type\": \"\",\n        \"description\": \"\"\n      }\n    },\n    {\n      \"column\": \"TUE\",\n      \"properties\": {\n        \"dtype\": \"number\",\n        \"std\": 0.6021134769921662,\n        \"min\": 0.0,\n        \"max\": 2.0,\n        \"num_unique_values\": 1297,\n        \"samples\": [\n          0.076654,\n          0.586163\n        ],\n        \"semantic_type\": \"\",\n        \"description\": \"\"\n      }\n    },\n    {\n      \"column\": \"CALC\",\n      \"properties\": {\n        \"dtype\": \"category\",\n        \"num_unique_values\": 3,\n        \"samples\": [\n          \"Sometimes\",\n          \"no\"\n        ],\n        \"semantic_type\": \"\",\n        \"description\": \"\"\n      }\n    },\n    {\n      \"column\": \"MTRANS\",\n      \"properties\": {\n        \"dtype\": \"category\",\n        \"num_unique_values\": 5,\n        \"samples\": [\n          \"Automobile\",\n          \"Bike\"\n        ],\n        \"semantic_type\": \"\",\n        \"description\": \"\"\n      }\n    },\n    {\n      \"column\": \"NObeyesdad\",\n      \"properties\": {\n        \"dtype\": \"category\",\n        \"num_unique_values\": 7,\n        \"samples\": [\n          \"Overweight_Level_II\",\n          \"Normal_Weight\"\n        ],\n        \"semantic_type\": \"\",\n        \"description\": \"\"\n      }\n    }\n  ]\n}"
            }
          },
          "metadata": {},
          "execution_count": 3
        }
      ]
    },
    {
      "cell_type": "code",
      "source": [
        "df1['BMI'] = df1['Weight'] / (df1['Height'])**2"
      ],
      "metadata": {
        "id": "YRzAx4ytsS_I"
      },
      "execution_count": 4,
      "outputs": []
    },
    {
      "cell_type": "code",
      "source": [
        "\n",
        "from sklearn.model_selection import train_test_split\n",
        "from sklearn.tree import DecisionTreeClassifier\n",
        "from sklearn.svm import SVC\n",
        "from sklearn.naive_bayes import GaussianNB\n",
        "from sklearn.ensemble import RandomForestClassifier, AdaBoostClassifier, GradientBoostingClassifier\n",
        "from sklearn.neighbors import KNeighborsClassifier\n",
        "from xgboost import XGBClassifier\n",
        "from sklearn.linear_model import LogisticRegression\n",
        "\n",
        "from sklearn.preprocessing import StandardScaler, LabelEncoder\n",
        "from sklearn.metrics import classification_report, accuracy_score\n",
        "from sklearn.compose import ColumnTransformer"
      ],
      "metadata": {
        "id": "fdGnQETvHqMS"
      },
      "execution_count": 5,
      "outputs": []
    },
    {
      "cell_type": "code",
      "source": [
        "df1 = df1.drop(columns=['id']).dropna()"
      ],
      "metadata": {
        "id": "krJq-DN8I2yk"
      },
      "execution_count": 6,
      "outputs": []
    },
    {
      "cell_type": "code",
      "source": [],
      "metadata": {
        "id": "tKrzcpTERTV1"
      },
      "execution_count": 6,
      "outputs": []
    },
    {
      "cell_type": "code",
      "source": [
        "age_bins = [0, 12, 19, 35, 60, 100]\n",
        "age_labels = ['Child', 'Teen', 'Young Adult', 'Middle-Aged Adult', 'Senior']\n",
        "\n",
        "df1['Age'] = pd.cut(df1['Age'], bins=age_bins, labels=age_labels, right=False)\n",
        "df1['Age'] = df1['Age'].astype(object)"
      ],
      "metadata": {
        "id": "iAo6rXaeRbRS"
      },
      "execution_count": 7,
      "outputs": []
    },
    {
      "cell_type": "code",
      "source": [
        "numeric_features = ['Height', 'Weight', 'FCVC', 'NCP', 'CH2O', 'FAF', 'TUE', 'BMI']\n",
        "categorical_features = ['Gender', 'Age', 'family_history_with_overweight', 'FAVC', 'CAEC', 'SMOKE', 'SCC', 'CALC', 'MTRANS']\n",
        "features = numeric_features + categorical_features"
      ],
      "metadata": {
        "id": "2oY-A6HYKHEH"
      },
      "execution_count": 8,
      "outputs": []
    },
    {
      "cell_type": "code",
      "source": [
        "St = StandardScaler()\n",
        "for col in df1:\n",
        "    if df1[col].dtype == 'int64' or df1[col].dtype == 'float64':\n",
        "        df1[col] = St.fit_transform(df1[col].values.reshape(-1, 1))"
      ],
      "metadata": {
        "id": "guo5DLfrlx7x"
      },
      "execution_count": 9,
      "outputs": []
    },
    {
      "cell_type": "code",
      "source": [
        "le = LabelEncoder()\n",
        "for col in df1:\n",
        "    if df1[col].dtype == 'object':\n",
        "        df1[col] = le.fit_transform(df1[col])"
      ],
      "metadata": {
        "id": "qW0BKzM3nCU_"
      },
      "execution_count": 10,
      "outputs": []
    },
    {
      "cell_type": "code",
      "source": [
        "X = df1[features]\n",
        "y = df1['NObeyesdad']"
      ],
      "metadata": {
        "id": "XTypxk6c6GUA"
      },
      "execution_count": 11,
      "outputs": []
    },
    {
      "cell_type": "code",
      "source": [
        "X_train, X_test, y_train, y_test = train_test_split(X, y, test_size=0.2, random_state=42)"
      ],
      "metadata": {
        "id": "hddtN7KQG2l_"
      },
      "execution_count": 12,
      "outputs": []
    },
    {
      "cell_type": "code",
      "source": [
        "RM = RandomForestClassifier()\n",
        "RM.fit(X_train, y_train)\n",
        "y_pred12 = RM.predict(X_train)\n",
        "y_pred1 = RM.predict(X_test)\n",
        "\n",
        "print(\"Accuracy:\", accuracy_score(y_train, y_pred12))\n",
        "print(\"Accuracy:\", accuracy_score(y_test, y_pred1))\n",
        "print(\"\\nClassification Report:\")\n",
        "print(classification_report(y_test, y_pred1))"
      ],
      "metadata": {
        "id": "gdUI6QoS4tT-",
        "colab": {
          "base_uri": "https://localhost:8080/"
        },
        "outputId": "f45813da-76a2-4a30-9d2f-e4facfb887e5"
      },
      "execution_count": 13,
      "outputs": [
        {
          "output_type": "stream",
          "name": "stdout",
          "text": [
            "Accuracy: 0.9993375888233169\n",
            "Accuracy: 0.8954720616570327\n",
            "\n",
            "Classification Report:\n",
            "              precision    recall  f1-score   support\n",
            "\n",
            "           0       0.94      0.93      0.94       524\n",
            "           1       0.87      0.88      0.87       626\n",
            "           2       0.86      0.86      0.86       543\n",
            "           3       0.97      0.96      0.97       657\n",
            "           4       1.00      1.00      1.00       804\n",
            "           5       0.77      0.76      0.76       484\n",
            "           6       0.79      0.80      0.79       514\n",
            "\n",
            "    accuracy                           0.90      4152\n",
            "   macro avg       0.88      0.88      0.88      4152\n",
            "weighted avg       0.90      0.90      0.90      4152\n",
            "\n"
          ]
        }
      ]
    },
    {
      "cell_type": "code",
      "source": [
        "LR = LogisticRegression()\n",
        "LR.fit(X_train, y_train)\n",
        "y_pred22 = LR.predict(X_train)\n",
        "y_pred2 = LR.predict(X_test)\n",
        "\n",
        "print(\"Accuracy:\", accuracy_score(y_train, y_pred22))\n",
        "print(\"Accuracy:\", accuracy_score(y_test, y_pred2))\n",
        "print(\"\\nClassification Report:\")\n",
        "print(classification_report(y_test, y_pred2))"
      ],
      "metadata": {
        "colab": {
          "base_uri": "https://localhost:8080/"
        },
        "id": "2LJMSKhpSMwa",
        "outputId": "1110f4be-c5e6-4b64-db79-eb1a6d2e7491"
      },
      "execution_count": 14,
      "outputs": [
        {
          "output_type": "stream",
          "name": "stdout",
          "text": [
            "Accuracy: 0.8584246657834518\n",
            "Accuracy: 0.8566955684007708\n",
            "\n",
            "Classification Report:\n",
            "              precision    recall  f1-score   support\n",
            "\n",
            "           0       0.88      0.93      0.90       524\n",
            "           1       0.84      0.81      0.82       626\n",
            "           2       0.81      0.80      0.81       543\n",
            "           3       0.94      0.96      0.95       657\n",
            "           4       0.99      1.00      1.00       804\n",
            "           5       0.72      0.68      0.70       484\n",
            "           6       0.70      0.71      0.70       514\n",
            "\n",
            "    accuracy                           0.86      4152\n",
            "   macro avg       0.84      0.84      0.84      4152\n",
            "weighted avg       0.86      0.86      0.86      4152\n",
            "\n"
          ]
        },
        {
          "output_type": "stream",
          "name": "stderr",
          "text": [
            "/usr/local/lib/python3.10/dist-packages/sklearn/linear_model/_logistic.py:469: ConvergenceWarning: lbfgs failed to converge (status=1):\n",
            "STOP: TOTAL NO. of ITERATIONS REACHED LIMIT.\n",
            "\n",
            "Increase the number of iterations (max_iter) or scale the data as shown in:\n",
            "    https://scikit-learn.org/stable/modules/preprocessing.html\n",
            "Please also refer to the documentation for alternative solver options:\n",
            "    https://scikit-learn.org/stable/modules/linear_model.html#logistic-regression\n",
            "  n_iter_i = _check_optimize_result(\n"
          ]
        }
      ]
    },
    {
      "cell_type": "code",
      "source": [
        "NB = GaussianNB()\n",
        "NB.fit(X_train, y_train)\n",
        "y_pred32 = NB.predict(X_train)\n",
        "y_pred3 = NB.predict(X_test)\n",
        "\n",
        "print(\"Accuracy:\", accuracy_score(y_train, y_pred32))\n",
        "print(\"Accuracy:\", accuracy_score(y_test, y_pred3))\n",
        "print(\"\\nClassification Report:\")\n",
        "print(classification_report(y_test, y_pred3))"
      ],
      "metadata": {
        "colab": {
          "base_uri": "https://localhost:8080/"
        },
        "id": "jQdyzjWgSOL6",
        "outputId": "77a49b1b-14e1-4048-d18c-9a1dd81aad7d"
      },
      "execution_count": 15,
      "outputs": [
        {
          "output_type": "stream",
          "name": "stdout",
          "text": [
            "Accuracy: 0.7776707214259906\n",
            "Accuracy: 0.773121387283237\n",
            "\n",
            "Classification Report:\n",
            "              precision    recall  f1-score   support\n",
            "\n",
            "           0       0.81      0.94      0.87       524\n",
            "           1       0.84      0.65      0.73       626\n",
            "           2       0.62      0.62      0.62       543\n",
            "           3       0.80      0.94      0.87       657\n",
            "           4       0.96      1.00      0.98       804\n",
            "           5       0.66      0.51      0.58       484\n",
            "           6       0.58      0.60      0.59       514\n",
            "\n",
            "    accuracy                           0.77      4152\n",
            "   macro avg       0.75      0.75      0.75      4152\n",
            "weighted avg       0.77      0.77      0.77      4152\n",
            "\n"
          ]
        }
      ]
    },
    {
      "cell_type": "code",
      "source": [
        "DT = DecisionTreeClassifier()\n",
        "DT.fit(X_train, y_train)\n",
        "y_pred42 = DT.predict(X_train)\n",
        "y_pred4 = DT.predict(X_test)\n",
        "\n",
        "print(\"Accuracy:\", accuracy_score(y_train, y_pred42))\n",
        "print(\"Accuracy:\", accuracy_score(y_test, y_pred4))\n",
        "print(\"\\nClassification Report:\")\n",
        "print(classification_report(y_test, y_pred4))"
      ],
      "metadata": {
        "colab": {
          "base_uri": "https://localhost:8080/"
        },
        "id": "j1zDzxbWSRhj",
        "outputId": "64ec24de-1bcd-4ca9-a7e4-31e987d6cf0d"
      },
      "execution_count": 16,
      "outputs": [
        {
          "output_type": "stream",
          "name": "stdout",
          "text": [
            "Accuracy: 0.9993978080211972\n",
            "Accuracy: 0.8383911368015414\n",
            "\n",
            "Classification Report:\n",
            "              precision    recall  f1-score   support\n",
            "\n",
            "           0       0.88      0.87      0.87       524\n",
            "           1       0.79      0.80      0.79       626\n",
            "           2       0.79      0.80      0.80       543\n",
            "           3       0.96      0.94      0.95       657\n",
            "           4       0.99      1.00      0.99       804\n",
            "           5       0.64      0.66      0.65       484\n",
            "           6       0.70      0.69      0.70       514\n",
            "\n",
            "    accuracy                           0.84      4152\n",
            "   macro avg       0.82      0.82      0.82      4152\n",
            "weighted avg       0.84      0.84      0.84      4152\n",
            "\n"
          ]
        }
      ]
    },
    {
      "cell_type": "code",
      "source": [
        "SVM = SVC()\n",
        "SVM.fit(X_train, y_train)\n",
        "y_pred52 = SVM.predict(X_train)\n",
        "y_pred5 = SVM.predict(X_test)\n",
        "\n",
        "print(\"Accuracy:\", accuracy_score(y_train, y_pred52))\n",
        "print(\"Accuracy:\", accuracy_score(y_test, y_pred5))\n",
        "print(\"\\nClassification Report:\")\n",
        "print(classification_report(y_test, y_pred5))"
      ],
      "metadata": {
        "colab": {
          "base_uri": "https://localhost:8080/"
        },
        "id": "vvJv16lKSVQL",
        "outputId": "8ee2d095-7f7f-4a02-80e6-08caea93f3c0"
      },
      "execution_count": 17,
      "outputs": [
        {
          "output_type": "stream",
          "name": "stdout",
          "text": [
            "Accuracy: 0.88769119595327\n",
            "Accuracy: 0.8783718689788054\n",
            "\n",
            "Classification Report:\n",
            "              precision    recall  f1-score   support\n",
            "\n",
            "           0       0.91      0.94      0.92       524\n",
            "           1       0.87      0.83      0.85       626\n",
            "           2       0.85      0.85      0.85       543\n",
            "           3       0.96      0.96      0.96       657\n",
            "           4       1.00      1.00      1.00       804\n",
            "           5       0.73      0.73      0.73       484\n",
            "           6       0.74      0.75      0.75       514\n",
            "\n",
            "    accuracy                           0.88      4152\n",
            "   macro avg       0.86      0.87      0.87      4152\n",
            "weighted avg       0.88      0.88      0.88      4152\n",
            "\n"
          ]
        }
      ]
    },
    {
      "cell_type": "code",
      "source": [
        "XGB = XGBClassifier()\n",
        "XGB.fit(X_train, y_train)\n",
        "y_pred62 = XGB.predict(X_train)\n",
        "y_pred6 = XGB.predict(X_test)\n",
        "\n",
        "print(\"Accuracy:\", accuracy_score(y_train, y_pred62))\n",
        "print(\"Accuracy:\", accuracy_score(y_test, y_pred6))\n",
        "print(\"\\nClassification Report:\")\n",
        "print(classification_report(y_test, y_pred6))"
      ],
      "metadata": {
        "colab": {
          "base_uri": "https://localhost:8080/"
        },
        "id": "-UDU2kgdSZ3D",
        "outputId": "b102581f-370d-4431-f732-6c36b7d1e793"
      },
      "execution_count": 18,
      "outputs": [
        {
          "output_type": "stream",
          "name": "stdout",
          "text": [
            "Accuracy: 0.984945200529929\n",
            "Accuracy: 0.9019749518304432\n",
            "\n",
            "Classification Report:\n",
            "              precision    recall  f1-score   support\n",
            "\n",
            "           0       0.95      0.93      0.94       524\n",
            "           1       0.88      0.88      0.88       626\n",
            "           2       0.88      0.87      0.88       543\n",
            "           3       0.98      0.96      0.97       657\n",
            "           4       0.99      1.00      1.00       804\n",
            "           5       0.77      0.79      0.78       484\n",
            "           6       0.80      0.80      0.80       514\n",
            "\n",
            "    accuracy                           0.90      4152\n",
            "   macro avg       0.89      0.89      0.89      4152\n",
            "weighted avg       0.90      0.90      0.90      4152\n",
            "\n"
          ]
        }
      ]
    },
    {
      "cell_type": "code",
      "source": [
        "ABC = AdaBoostClassifier()\n",
        "ABC.fit(X_train, y_train)\n",
        "y_pred72 = ABC.predict(X_train)\n",
        "y_pred7 = ABC.predict(X_test)\n",
        "\n",
        "print(\"Accuracy:\", accuracy_score(y_train, y_pred72))\n",
        "print(\"Accuracy:\", accuracy_score(y_test, y_pred7))\n",
        "print(\"\\nClassification Report:\")\n",
        "print(classification_report(y_test, y_pred7))"
      ],
      "metadata": {
        "colab": {
          "base_uri": "https://localhost:8080/"
        },
        "id": "gFXc5brNSc8j",
        "outputId": "35889ce2-e84c-4057-ae2e-db2c8bd828fd"
      },
      "execution_count": 19,
      "outputs": [
        {
          "output_type": "stream",
          "name": "stderr",
          "text": [
            "/usr/local/lib/python3.10/dist-packages/sklearn/ensemble/_weight_boosting.py:527: FutureWarning: The SAMME.R algorithm (the default) is deprecated and will be removed in 1.6. Use the SAMME algorithm to circumvent this warning.\n",
            "  warnings.warn(\n"
          ]
        },
        {
          "output_type": "stream",
          "name": "stdout",
          "text": [
            "Accuracy: 0.5313742020956281\n",
            "Accuracy: 0.5358863198458574\n",
            "\n",
            "Classification Report:\n",
            "              precision    recall  f1-score   support\n",
            "\n",
            "           0       0.65      0.24      0.36       524\n",
            "           1       0.52      0.73      0.60       626\n",
            "           2       0.86      0.52      0.65       543\n",
            "           3       0.39      0.98      0.56       657\n",
            "           4       0.00      0.00      0.00       804\n",
            "           5       0.65      0.62      0.63       484\n",
            "           6       0.64      0.81      0.71       514\n",
            "\n",
            "    accuracy                           0.54      4152\n",
            "   macro avg       0.53      0.56      0.50      4152\n",
            "weighted avg       0.49      0.54      0.47      4152\n",
            "\n"
          ]
        }
      ]
    },
    {
      "cell_type": "code",
      "source": [
        "GBC = GradientBoostingClassifier()\n",
        "GBC.fit(X_train, y_train)\n",
        "y_pred82 = GBC.predict(X_train)\n",
        "y_pred8 = GBC.predict(X_test)\n",
        "\n",
        "print(\"Accuracy:\", accuracy_score(y_train, y_pred82))\n",
        "print(\"Accuracy:\", accuracy_score(y_test, y_pred8))\n",
        "print(\"\\nClassification Report:\")\n",
        "print(classification_report(y_test, y_pred8))"
      ],
      "metadata": {
        "colab": {
          "base_uri": "https://localhost:8080/"
        },
        "id": "eVCYHj6SSjer",
        "outputId": "d18b82f1-7e15-448e-9083-755861fb772d"
      },
      "execution_count": 20,
      "outputs": [
        {
          "output_type": "stream",
          "name": "stdout",
          "text": [
            "Accuracy: 0.9158135613633627\n",
            "Accuracy: 0.8976396917148363\n",
            "\n",
            "Classification Report:\n",
            "              precision    recall  f1-score   support\n",
            "\n",
            "           0       0.94      0.94      0.94       524\n",
            "           1       0.87      0.89      0.88       626\n",
            "           2       0.88      0.87      0.87       543\n",
            "           3       0.98      0.96      0.97       657\n",
            "           4       1.00      1.00      1.00       804\n",
            "           5       0.77      0.77      0.77       484\n",
            "           6       0.78      0.78      0.78       514\n",
            "\n",
            "    accuracy                           0.90      4152\n",
            "   macro avg       0.89      0.89      0.89      4152\n",
            "weighted avg       0.90      0.90      0.90      4152\n",
            "\n"
          ]
        }
      ]
    },
    {
      "cell_type": "code",
      "source": [
        "KNN = KNeighborsClassifier()\n",
        "KNN.fit(X_train, y_train)\n",
        "y_pred92 = KNN.predict(X_train)\n",
        "y_pred9 = KNN.predict(X_test)\n",
        "\n",
        "print(\"Accuracy:\", accuracy_score(y_train, y_pred92))\n",
        "print(\"Accuracy:\", accuracy_score(y_test, y_pred9))\n",
        "print(\"\\nClassification Report:\")\n",
        "print(classification_report(y_test, y_pred9))"
      ],
      "metadata": {
        "colab": {
          "base_uri": "https://localhost:8080/"
        },
        "id": "QQ11ku-R6LSY",
        "outputId": "f514486f-78c8-47f0-a338-fbe8ef6b7a43"
      },
      "execution_count": 21,
      "outputs": [
        {
          "output_type": "stream",
          "name": "stdout",
          "text": [
            "Accuracy: 0.8577020354088883\n",
            "Accuracy: 0.7834778420038536\n",
            "\n",
            "Classification Report:\n",
            "              precision    recall  f1-score   support\n",
            "\n",
            "           0       0.83      0.85      0.84       524\n",
            "           1       0.65      0.71      0.68       626\n",
            "           2       0.72      0.79      0.75       543\n",
            "           3       0.94      0.95      0.95       657\n",
            "           4       0.99      1.00      0.99       804\n",
            "           5       0.53      0.47      0.50       484\n",
            "           6       0.64      0.55      0.59       514\n",
            "\n",
            "    accuracy                           0.78      4152\n",
            "   macro avg       0.76      0.76      0.76      4152\n",
            "weighted avg       0.78      0.78      0.78      4152\n",
            "\n"
          ]
        }
      ]
    },
    {
      "cell_type": "code",
      "source": [],
      "metadata": {
        "id": "oJ2lnNBFVes-"
      },
      "execution_count": 21,
      "outputs": []
    }
  ]
}